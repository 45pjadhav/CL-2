{
 "cells": [
  {
   "cell_type": "code",
   "execution_count": null,
   "id": "d6b969f3-c6a7-4234-b144-c5bc4fdbc2c5",
   "metadata": {},
   "outputs": [],
   "source": [
    "doc1 = \"Write a program to construct a Bayesian network diagnosis considering medical data.\" \n",
    "doc2 = \"Use this model program to demonstrate the diagnosis of heart patients using the standard Heart Disease Data Set (You can use Java/Python ML library classes/API\""
   ]
  },
  {
   "cell_type": "code",
   "execution_count": null,
   "id": "9386db33-d946-4108-9051-b65f921331ae",
   "metadata": {},
   "outputs": [],
   "source": [
    "doc1 = doc1.lower().split()\n",
    "doc2 = doc2.lower().split()"
   ]
  },
  {
   "cell_type": "code",
   "execution_count": null,
   "id": "1294f020-2fb5-4ebc-a943-f1b923871927",
   "metadata": {},
   "outputs": [],
   "source": [
    "terms = list(set(doc1 + doc2))\n",
    "print(terms)"
   ]
  },
  {
   "cell_type": "code",
   "execution_count": null,
   "id": "0a8222a9-f799-45f5-9012-5a58428d9215",
   "metadata": {},
   "outputs": [],
   "source": [
    "inverted_index = {}\n",
    "for term in terms:\n",
    "    documents = []\n",
    "    if term in doc1:\n",
    "        documents.append('Document 1')\n",
    "    if term in doc2:\n",
    "        documents.append('Document 2')\n",
    "    inverted_index[term] = documents\n",
    "print(inverted_index)"
   ]
  },
  {
   "cell_type": "code",
   "execution_count": null,
   "id": "0f106583-cd49-461e-b26f-3ebf1d038f9f",
   "metadata": {},
   "outputs": [],
   "source": [
    "for term, documents in inverted_index.items():\n",
    "    print(f\"{term}->   {', '.join(documents)}\")"
   ]
  },
  {
   "cell_type": "code",
   "execution_count": null,
   "id": "a4d9b3e8-8cec-48fd-ac6f-ba3b699c2e76",
   "metadata": {},
   "outputs": [],
   "source": []
  }
 ],
 "metadata": {
  "kernelspec": {
   "display_name": "Python 3 (ipykernel)",
   "language": "python",
   "name": "python3"
  },
  "language_info": {
   "codemirror_mode": {
    "name": "ipython",
    "version": 3
   },
   "file_extension": ".py",
   "mimetype": "text/x-python",
   "name": "python",
   "nbconvert_exporter": "python",
   "pygments_lexer": "ipython3",
   "version": "3.12.7"
  }
 },
 "nbformat": 4,
 "nbformat_minor": 5
}
