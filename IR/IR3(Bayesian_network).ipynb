{
 "cells": [
  {
   "cell_type": "code",
   "execution_count": null,
   "id": "c429cc23-8f34-4924-b38f-a309332f6829",
   "metadata": {},
   "outputs": [],
   "source": [
    "!pip install pgmpy"
   ]
  },
  {
   "cell_type": "code",
   "execution_count": null,
   "id": "308c64f2-121d-4c8b-8fc5-45589382d2ec",
   "metadata": {},
   "outputs": [],
   "source": [
    "import pandas as pd\n",
    "from pgmpy.models import BayesianModel\n",
    "from pgmpy.estimators import MaximumLikelihoodEstimator\n",
    "from pgmpy.inference import VariableElimination\n",
    "\n",
    "df = pd.read_csv('heart.csv')\n",
    "df.head()\n",
    "\n",
    "model = BayesianModel([('age','trestbps'),('age','fbs'),('sex','trestbps'),('exang','trestbps'),('trestbps','heartdisease'),\n",
    "                       ('fbs','heartdisease'),('heartdisease','restecg'), ('heartdisease','thalach'),('heartdisease','chol')])\n",
    "\n",
    "model.fit(df, estimator= MaximumLikelihoodEstimator)\n",
    "\n",
    "inference = VariableElimination(model)\n",
    "\n",
    "q = inference.query(variables=['heartdisease'], evidence={'age':58})\n",
    "print(q)"
   ]
  },
  {
   "cell_type": "code",
   "execution_count": null,
   "id": "7ff2de41-5a02-4537-bbd4-d516796aa887",
   "metadata": {},
   "outputs": [],
   "source": [
    "r = inference.query(variables=['heartdisease'], show_progress=False)\n",
    "print(r)"
   ]
  },
  {
   "cell_type": "code",
   "execution_count": null,
   "id": "f3092739-6d0c-4ada-b604-e9986a523741",
   "metadata": {},
   "outputs": [],
   "source": [
    "r1 = inference.query(variables=['heartdisease'], evidence={'age': 58}, show_progress=False)\n",
    "print(r1)"
   ]
  }
 ],
 "metadata": {
  "kernelspec": {
   "display_name": "Python 3 (ipykernel)",
   "language": "python",
   "name": "python3"
  },
  "language_info": {
   "codemirror_mode": {
    "name": "ipython",
    "version": 3
   },
   "file_extension": ".py",
   "mimetype": "text/x-python",
   "name": "python",
   "nbconvert_exporter": "python",
   "pygments_lexer": "ipython3",
   "version": "3.12.7"
  }
 },
 "nbformat": 4,
 "nbformat_minor": 5
}
