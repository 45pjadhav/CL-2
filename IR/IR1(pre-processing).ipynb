{
 "cells": [
  {
   "cell_type": "code",
   "execution_count": null,
   "id": "b747c131",
   "metadata": {},
   "outputs": [],
   "source": [
    "import nltk\n",
    "from nltk.corpus import stopwords\n",
    "from nltk.tokenize import word_tokenize\n",
    "from nltk.stem import PorterStemmer\n",
    "from nltk.stem import WordNetLemmatizer\n"
   ]
  },
  {
   "cell_type": "code",
   "execution_count": null,
   "id": "679ab4ff",
   "metadata": {},
   "outputs": [],
   "source": [
    "# Download required NLTK data\n",
    "nltk.download('punkt')\n",
    "nltk.download('stopwords')\n",
    "nltk.download('wordnet')"
   ]
  },
  {
   "cell_type": "code",
   "execution_count": null,
   "id": "cab2249d",
   "metadata": {},
   "outputs": [],
   "source": [
    "# Input sentence\n",
    "sentence = \"Write a program to construct a Bayesian network considering medical data. Use this model to demonstrate the diagnosis of heart patients using the standard Heart Disease Data Set (You can use Java/Python ML library classes/API)\""
   ]
  },
  {
   "cell_type": "code",
   "execution_count": null,
   "id": "a8c30c19",
   "metadata": {},
   "outputs": [],
   "source": [
    "# Tokenize the sentence\n",
    "tokenized_words = word_tokenize(sentence)\n",
    "print(\"Tokenized Words:\", tokenized_words)"
   ]
  },
  {
   "cell_type": "code",
   "execution_count": null,
   "id": "e6a7a262",
   "metadata": {},
   "outputs": [],
   "source": [
    "# Get English stopwords\n",
    "stop_words = set(stopwords.words('english'))\n",
    "print(\"Stopwords:\", stop_words)"
   ]
  },
  {
   "cell_type": "code",
   "execution_count": null,
   "id": "d8f2353c",
   "metadata": {},
   "outputs": [],
   "source": [
    "# Filter out stopwords\n",
    "filtered_sentence = [word for word in tokenized_words if word.lower() not in stop_words]\n",
    "print(\"Filtered Sentence:\", filtered_sentence)"
   ]
  },
  {
   "cell_type": "code",
   "execution_count": null,
   "id": "b7729d72",
   "metadata": {},
   "outputs": [],
   "source": [
    "# Initialize stemmer and apply stemming\n",
    "stemmer = PorterStemmer()\n",
    "for word in filtered_sentence:\n",
    "    stemmed = stemmer.stem(word)\n",
    "    print(f'Stemmed: {word} -> {stemmed}')"
   ]
  },
  {
   "cell_type": "code",
   "execution_count": null,
   "id": "14e02049",
   "metadata": {},
   "outputs": [],
   "source": [
    "# Initialize lemmatizer and apply lemmatization\n",
    "lemmatizer = WordNetLemmatizer()\n",
    "for word in filtered_sentence:\n",
    "    lemmatized = lemmatizer.lemmatize(word)\n",
    "    print(f'Lemmatized: {word} -> {lemmatized}')"
   ]
  },
  {
   "cell_type": "code",
   "execution_count": null,
   "id": "3da080ab",
   "metadata": {},
   "outputs": [],
   "source": []
  }
 ],
 "metadata": {
  "kernelspec": {
   "display_name": "Python 3 (ipykernel)",
   "language": "python",
   "name": "python3"
  },
  "language_info": {
   "codemirror_mode": {
    "name": "ipython",
    "version": 3
   },
   "file_extension": ".py",
   "mimetype": "text/x-python",
   "name": "python",
   "nbconvert_exporter": "python",
   "pygments_lexer": "ipython3",
   "version": "3.12.7"
  }
 },
 "nbformat": 4,
 "nbformat_minor": 5
}
