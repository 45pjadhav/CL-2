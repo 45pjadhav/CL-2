{
 "cells": [
  {
   "cell_type": "code",
   "execution_count": null,
   "id": "c8787d9f-e045-436a-8896-599c2dcf35d3",
   "metadata": {},
   "outputs": [],
   "source": [
    "import pandas as pd\n",
    "import numpy as np\n",
    "import matplotlib.pyplot as plt\n",
    "from sklearn.decomposition import PCA\n",
    "from sklearn.cluster import AgglomerativeClustering\n",
    "from sklearn.preprocessing import StandardScaler, normalize\n",
    "from sklearn.metrics import silhouette_score\n",
    "import scipy.cluster.hierarchy as shc"
   ]
  },
  {
   "cell_type": "code",
   "execution_count": null,
   "id": "4a376185-5e6a-44c1-8f41-3f2ed018a981",
   "metadata": {},
   "outputs": [],
   "source": [
    "X = pd.read_csv('CC_GENERAL.csv')"
   ]
  },
  {
   "cell_type": "code",
   "execution_count": null,
   "id": "385edb38-e21d-4683-949e-ddcfdcb8e6f6",
   "metadata": {},
   "outputs": [],
   "source": [
    "# Dropping the CUST_ID column from the data\n",
    "X = X.drop('CUST_ID', axis = 1)"
   ]
  },
  {
   "cell_type": "code",
   "execution_count": null,
   "id": "258643fb-c650-44ac-81f0-ad15ff607f45",
   "metadata": {},
   "outputs": [],
   "source": [
    "X.fillna(method ='ffill', inplace = True)"
   ]
  },
  {
   "cell_type": "code",
   "execution_count": null,
   "id": "0cee9d04-cd33-418c-a347-fff37ce9e199",
   "metadata": {},
   "outputs": [],
   "source": [
    "scaler = StandardScaler()\n",
    "X_scaled = scaler.fit_transform(X)"
   ]
  },
  {
   "cell_type": "code",
   "execution_count": null,
   "id": "6f652157-90f4-4568-a3b5-78dc9c4381e7",
   "metadata": {},
   "outputs": [],
   "source": [
    "X_normalized = normalize(X_scaled)\n",
    "DataFrameX_normalized = pd.DataFrame(X_normalized)"
   ]
  },
  {
   "cell_type": "code",
   "execution_count": null,
   "id": "139aff35-91ef-4401-bbc6-8f74ec822c99",
   "metadata": {},
   "outputs": [],
   "source": [
    "pca = PCA(n_components = 2)\n",
    "X_principal = pca.fit_transform(X_normalized)\n",
    "X_principal = pd.DataFrame(X_principal)\n",
    "X_principal.columns = ['P1', 'P2']"
   ]
  },
  {
   "cell_type": "code",
   "execution_count": null,
   "id": "dbf656b0-6b4a-45c2-b581-fe4197679c5b",
   "metadata": {},
   "outputs": [],
   "source": [
    " plt.figure(figsize =(8, 8))\n",
    "plt.title('Visualising the data')\n",
    "Dendrogram = shc.dendrogram((shc.linkage(X_principal, method ='ward')))"
   ]
  },
  {
   "cell_type": "code",
   "execution_count": null,
   "id": "5a757c06-b854-4183-aaec-558b055c38f2",
   "metadata": {},
   "outputs": [],
   "source": [
    "# k = 2\n",
    "ac2 = AgglomerativeClustering(n_clusters = 2)\n",
    "plt.figure(figsize =(6, 6))\n",
    "plt.scatter(X_principal['P1'], X_principal['P2'],\n",
    "c = ac2.fit_predict(X_principal), cmap ='rainbow')\n",
    "plt.show()"
   ]
  },
  {
   "cell_type": "code",
   "execution_count": null,
   "id": "ce886711-d2f8-4766-ac18-e09b45f12351",
   "metadata": {},
   "outputs": [],
   "source": [
    "# k = 3\n",
    "ac3 = AgglomerativeClustering(n_clusters = 3)\n",
    "plt.figure(figsize =(6, 6))\n",
    "plt.scatter(X_principal['P1'], X_principal['P2'],\n",
    "c = ac3.fit_predict(X_principal), cmap ='rainbow')\n",
    "plt.show()"
   ]
  },
  {
   "cell_type": "code",
   "execution_count": null,
   "id": "8b0f5755-18bf-48c0-9746-c23887892c8c",
   "metadata": {},
   "outputs": [],
   "source": [
    "# k = 4\n",
    "ac4 = AgglomerativeClustering(n_clusters = 4)\n",
    "plt.figure(figsize =(6, 6))\n",
    "plt.scatter(X_principal['P1'], X_principal['P2'],\n",
    "c = ac4.fit_predict(X_principal), cmap ='rainbow')\n",
    "plt.show()"
   ]
  },
  {
   "cell_type": "code",
   "execution_count": null,
   "id": "dddecc0c-4910-43f1-96e3-cb1d3d5ded9b",
   "metadata": {},
   "outputs": [],
   "source": [
    "# k = 5\n",
    "ac5 = AgglomerativeClustering(n_clusters = 5)\n",
    "plt.figure(figsize =(6, 6))\n",
    "plt.scatter(X_principal['P1'], X_principal['P2'],\n",
    "c = ac5.fit_predict(X_principal), cmap ='rainbow')\n",
    "plt.show()"
   ]
  },
  {
   "cell_type": "code",
   "execution_count": null,
   "id": "3482ab09-88e5-4ef7-87f9-61634ffbfb46",
   "metadata": {},
   "outputs": [],
   "source": [
    "# k = 6\n",
    "ac6 = AgglomerativeClustering(n_clusters = 6)\n",
    "plt.figure(figsize =(6, 6))\n",
    "plt.scatter(X_principal['P1'], X_principal['P2'],\n",
    "c = ac6.fit_predict(X_principal), cmap ='rainbow')\n",
    "plt.show()"
   ]
  },
  {
   "cell_type": "code",
   "execution_count": null,
   "id": "e68cde07-dacb-46f3-a154-55a098b0d227",
   "metadata": {},
   "outputs": [],
   "source": [
    "k = [2, 3, 4, 5, 6]\n",
    "silhouette_scores = []\n",
    "silhouette_scores.append(silhouette_score(X_principal, ac2.fit_predict(X_principal)))\n",
    "silhouette_scores.append(silhouette_score(X_principal, ac3.fit_predict(X_principal)))\n",
    "silhouette_scores.append(silhouette_score(X_principal, ac4.fit_predict(X_principal)))\n",
    "silhouette_scores.append(silhouette_score(X_principal, ac5.fit_predict(X_principal)))\n",
    "silhouette_scores.append(silhouette_score(X_principal, ac6.fit_predict(X_principal)))\n",
    "print(silhouette_scores)"
   ]
  },
  {
   "cell_type": "code",
   "execution_count": null,
   "id": "9be9b2bf-7318-4094-82e9-87684f153680",
   "metadata": {},
   "outputs": [],
   "source": [
    "plt.bar(k,silhouette_scores)\n",
    "plt.xlabel('Number of Clusters', fontsize = 20)\n",
    "plt.ylabel('S(i)',fontsize = 20)\n",
    "plt.show()"
   ]
  },
  {
   "cell_type": "code",
   "execution_count": null,
   "id": "0d7f8519-bb08-49a1-89a4-c9ce145b4175",
   "metadata": {},
   "outputs": [],
   "source": []
  }
 ],
 "metadata": {
  "kernelspec": {
   "display_name": "Python 3 (ipykernel)",
   "language": "python",
   "name": "python3"
  },
  "language_info": {
   "codemirror_mode": {
    "name": "ipython",
    "version": 3
   },
   "file_extension": ".py",
   "mimetype": "text/x-python",
   "name": "python",
   "nbconvert_exporter": "python",
   "pygments_lexer": "ipython3",
   "version": "3.12.7"
  }
 },
 "nbformat": 4,
 "nbformat_minor": 5
}
