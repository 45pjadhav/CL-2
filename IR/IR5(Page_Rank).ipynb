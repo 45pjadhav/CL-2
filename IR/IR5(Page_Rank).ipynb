{
 "cells": [
  {
   "cell_type": "code",
   "execution_count": null,
   "id": "a52d307c-1330-4f06-9f5a-dbb646a4927e",
   "metadata": {},
   "outputs": [],
   "source": [
    "import numpy as np\n",
    "\n",
    "# Define the structure of the links (Adjacency Matrix)\n",
    "# Let's assume we have 4 pages, labeled 0 to 3.\n",
    "# If page i links to page j, the adjacency matrix entry A[i, j] = 1.\n",
    "# Otherwise, A[i, j] = 0.\n",
    "\n",
    "# Example link structure:\n",
    "# Page 0 links to Page 1 and Page 2\n",
    "# Page 1 links to Page 2\n",
    "# Page 2 links to Page 3\n",
    "# Page 3 links to Page 0\n",
    "\n",
    "A = np.array([[0, 1, 1, 0],  # Page 0 links to Page 1 and Page 2\n",
    "              [0, 0, 1, 0],  # Page 1 links to Page 2\n",
    "              [0, 0, 0, 1],  # Page 2 links to Page 3\n",
    "              [1, 0, 0, 0]]) # Page 3 links to Page 0"
   ]
  },
  {
   "cell_type": "code",
   "execution_count": null,
   "id": "8996e3b8-c55f-4e20-9a0f-283f16f06962",
   "metadata": {},
   "outputs": [],
   "source": [
    "# Number of pages\n",
    "n = A.shape[0]\n",
    "\n",
    "# Initialize PageRank (start with equal rank for each page)\n",
    "pr = np.ones(n) / n\n",
    "\n",
    "# Damping factor (usually between 0.1 and 0.2)\n",
    "d = 0.85"
   ]
  },
  {
   "cell_type": "code",
   "execution_count": null,
   "id": "9740bff1-64e6-4725-811d-6f17f70392bf",
   "metadata": {
    "scrolled": true
   },
   "outputs": [],
   "source": [
    "# Number of iterations\n",
    "iterations = 100\n",
    "\n",
    "# PageRank algorithm\n",
    "for _ in range(iterations):\n",
    "    new_pr = np.zeros(n)\n",
    "    for i in range(n):\n",
    "        # For each page i, calculate its PageRank value\n",
    "        for j in range(n):\n",
    "            if A[j, i] == 1:\n",
    "                # Page i gets some of the rank from page j\n",
    "                new_pr[i] += pr[j] / np.sum(A[j])  # divide by number of links from page j\n",
    "\n",
    "    # Apply the damping factor and reset the rank\n",
    "    pr = (1 - d) / n + d * new_pr\n",
    "\n",
    "    # Optionally, print the rank after each iteration to observe convergence\n",
    "    print(pr)"
   ]
  },
  {
   "cell_type": "code",
   "execution_count": null,
   "id": "1c7042c6-0314-4cbd-8cfa-74ecae8ece29",
   "metadata": {},
   "outputs": [],
   "source": [
    "# After convergence, print the final PageRank values\n",
    "print(\"PageRank values after convergence:\")\n",
    "for i in range(n):\n",
    "    print(f\"Page {i}: {pr[i]}\")"
   ]
  },
  {
   "cell_type": "code",
   "execution_count": null,
   "id": "1e87ee44-0cb9-47e2-aa0a-58bc54fa3da7",
   "metadata": {},
   "outputs": [],
   "source": []
  }
 ],
 "metadata": {
  "kernelspec": {
   "display_name": "Python 3 (ipykernel)",
   "language": "python",
   "name": "python3"
  },
  "language_info": {
   "codemirror_mode": {
    "name": "ipython",
    "version": 3
   },
   "file_extension": ".py",
   "mimetype": "text/x-python",
   "name": "python",
   "nbconvert_exporter": "python",
   "pygments_lexer": "ipython3",
   "version": "3.12.7"
  }
 },
 "nbformat": 4,
 "nbformat_minor": 5
}
